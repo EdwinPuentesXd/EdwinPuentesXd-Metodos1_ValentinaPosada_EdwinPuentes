{
 "cells": [
  {
   "cell_type": "code",
   "execution_count": 1,
   "id": "5887bf64",
   "metadata": {},
   "outputs": [],
   "source": [
    "import numpy as np\n",
    "import matplotlib.pyplot as plt"
   ]
  },
  {
   "cell_type": "markdown",
   "id": "5beae9f5",
   "metadata": {},
   "source": [
    "##### Primer sistema de ecuaciones"
   ]
  },
  {
   "cell_type": "code",
   "execution_count": 2,
   "id": "f49d4f78",
   "metadata": {},
   "outputs": [],
   "source": [
    "G=(lambda x1,x2: np.log(x1**2+x2**2)-np.sin(x1*x2)-np.log(2)-np.log(np.pi), \\\n",
    "   lambda x1,x2: np.exp(x1-x2) + np.cos(x1*x2))"
   ]
  },
  {
   "cell_type": "code",
   "execution_count": 3,
   "id": "3e954be7",
   "metadata": {},
   "outputs": [],
   "source": [
    "def GetVectorF(G,r):\n",
    "    dim = len(G)    \n",
    "    v = np.zeros(dim)\n",
    "    if len(r)==2:\n",
    "        for i in range(dim):\n",
    "            v[i] = G[i](r[0],r[1])\n",
    "    elif len(r)==3:\n",
    "        for i in range(dim):\n",
    "            v[i] = G[i](r[0],r[1],r[2])\n",
    "    return v"
   ]
  },
  {
   "cell_type": "code",
   "execution_count": 4,
   "id": "7644aea2",
   "metadata": {},
   "outputs": [],
   "source": [
    "def GetJacobian(G,r,h=1e-6):\n",
    "    \n",
    "    dim = len(G)\n",
    "    \n",
    "    J = np.zeros((dim,dim))\n",
    "    \n",
    "    for i in range(dim):\n",
    "        J[i,0] = (  G[i](r[0]+h,r[1]) - G[i](r[0]-h,r[1]) )/(2*h)\n",
    "        J[i,1] = (  G[i](r[0],r[1]+h) - G[i](r[0],r[1]-h) )/(2*h)\n",
    "        \n",
    "    return J.T"
   ]
  },
  {
   "cell_type": "code",
   "execution_count": 5,
   "id": "a85f2aa1",
   "metadata": {},
   "outputs": [],
   "source": [
    "def GetMetric(G,r):\n",
    "    v = GetVectorF(G,r)\n",
    "    return 0.5*np.linalg.norm(v)**2"
   ]
  },
  {
   "cell_type": "code",
   "execution_count": 6,
   "id": "493a099b",
   "metadata": {},
   "outputs": [],
   "source": [
    "def GetFig(F,R,it):\n",
    "    \n",
    "    fig = plt.figure(figsize=(8,4))\n",
    "    \n",
    "    labels = ['X','Y']\n",
    "    \n",
    "    ax = fig.add_subplot(1,2,1)\n",
    "    ax1 = fig.add_subplot(1,2,2)\n",
    "\n",
    "    ax.set_title('Metric: %.20f' %(F[it]))\n",
    "\n",
    "    ax.plot(F[:it])\n",
    "    ax.set_xlabel('%.0f' %(it))\n",
    "    ax.set_yscale('log')\n",
    "    ax1.plot(R[:it],label=labels)\n",
    "    ax1.set_xlabel('%.0f' %(it))\n",
    "    ax1.legend(loc=0)\n",
    "    \n",
    "    plt.show()"
   ]
  },
  {
   "cell_type": "code",
   "execution_count": 3,
   "id": "232ddd4d",
   "metadata": {},
   "outputs": [],
   "source": [
    "def GetSolve(G,r,lr=1e-3,epochs=int(1e5),error=1e-7):\n",
    "    d = 1\n",
    "    it = 0\n",
    "    Vector_F = np.array([])\n",
    "    R_vector = np.array(r)\n",
    "    while d > error and it < epochs:\n",
    "        \n",
    "        CurrentF = GetMetric(G,r)\n",
    "        J = GetJacobian(G,r)\n",
    "        GVector = GetVectorF(G,r)\n",
    "        #Machine Learning\n",
    "        r -= lr*np.dot(J,GVector) \n",
    "        R_vector = np.vstack((R_vector,r))\n",
    "        NewF = GetMetric(G,r)\n",
    "        Vector_F = np.append(Vector_F,NewF)\n",
    "        d = np.abs( CurrentF - NewF )/NewF\n",
    "\n",
    "        it += 1\n",
    "        \n",
    "    if it == epochs:\n",
    "        print(' Entrenamiento no completado ')\n",
    "    \n",
    "    GetFig(Vector_F,R_vector,it-1)    \n",
    "    return r,it"
   ]
  },
  {
   "cell_type": "code",
   "execution_count": 4,
   "id": "ba16f446",
   "metadata": {},
   "outputs": [
    {
     "ename": "NameError",
     "evalue": "name 'G' is not defined",
     "output_type": "error",
     "traceback": [
      "\u001b[1;31m---------------------------------------------------------------------------\u001b[0m",
      "\u001b[1;31mNameError\u001b[0m                                 Traceback (most recent call last)",
      "Input \u001b[1;32mIn [4]\u001b[0m, in \u001b[0;36m<cell line: 1>\u001b[1;34m()\u001b[0m\n\u001b[1;32m----> 1\u001b[0m xsol,it \u001b[38;5;241m=\u001b[39m GetSolve(\u001b[43mG\u001b[49m,[\u001b[38;5;241m2\u001b[39m,\u001b[38;5;241m2\u001b[39m])\n",
      "\u001b[1;31mNameError\u001b[0m: name 'G' is not defined"
     ]
    }
   ],
   "source": [
    "xsol,it = GetSolve(G,[2,2])"
   ]
  },
  {
   "cell_type": "code",
   "execution_count": 9,
   "id": "9c06f48d",
   "metadata": {},
   "outputs": [
    {
     "data": {
      "text/plain": [
       "array([1.77245385, 1.77245385])"
      ]
     },
     "execution_count": 9,
     "metadata": {},
     "output_type": "execute_result"
    }
   ],
   "source": [
    "xsol"
   ]
  },
  {
   "cell_type": "markdown",
   "id": "543cb99d",
   "metadata": {},
   "source": [
    "##### Segundo sistema de ecuaciones"
   ]
  },
  {
   "cell_type": "code",
   "execution_count": 10,
   "id": "3ad41c67",
   "metadata": {},
   "outputs": [],
   "source": [
    "G2=(lambda x1,x2,x3: 6*x1 - 2*np.cos(x3*x2) - 1, \\\n",
    "    lambda x1,x2,x3: 9*x2 + np.sqrt(x1**2+np.sin(x3)+1.06) +0.9, \\\n",
    "    lambda x1,x2,x3: 60*x3+3*np.exp(-x1*x2)+10*np.pi-3)"
   ]
  },
  {
   "cell_type": "code",
   "execution_count": 11,
   "id": "38e51dc1",
   "metadata": {},
   "outputs": [],
   "source": [
    "def GetJacobian2(G2,r2,h=1e-6):\n",
    "    \n",
    "    dim = len(G2)\n",
    "    \n",
    "    J = np.zeros((dim,dim))\n",
    "    \n",
    "    for i in range(dim):\n",
    "        J[i,0] = (  G2[i](r2[0]+h,r2[1],r2[2]) - G2[i](r2[0]-h,r2[1],r2[2]) )/(2*h)\n",
    "        J[i,1] = (  G2[i](r2[0],r2[1]+h,r2[2]) - G2[i](r2[0],r2[1]-h,r2[2]) )/(2*h)\n",
    "        J[i,2] = (  G2[i](r2[0],r2[1],r2[2]+h) - G2[i](r2[0],r2[1],r2[2]-h) )/(2*h)\n",
    "        \n",
    "    return J.T"
   ]
  },
  {
   "cell_type": "code",
   "execution_count": 12,
   "id": "d726c773",
   "metadata": {},
   "outputs": [],
   "source": [
    "def GetFig2(F,R,it):\n",
    "    \n",
    "    fig = plt.figure(figsize=(8,4))\n",
    "    \n",
    "    labels = ['X','Y','Z']\n",
    "    \n",
    "    ax = fig.add_subplot(1,2,1)\n",
    "    ax1 = fig.add_subplot(1,2,2)\n",
    "\n",
    "    ax.set_title('Metric: %.20f' %(F[it]))\n",
    "\n",
    "    ax.plot(F[:it])\n",
    "    ax.set_xlabel('%.0f' %(it))\n",
    "    ax.set_yscale('log')\n",
    "    ax1.plot(R[:it],label=labels)\n",
    "    ax1.set_xlabel('%.0f' %(it))\n",
    "    ax1.legend(loc=0)\n",
    "    \n",
    "    plt.show()"
   ]
  },
  {
   "cell_type": "code",
   "execution_count": 13,
   "id": "d0f010a3",
   "metadata": {},
   "outputs": [],
   "source": [
    "def GetSolve2(G2,r2,lr=1e-4,epochs=int(1e5),error=1e-7):\n",
    "    d = 1\n",
    "    it = 0\n",
    "    Vector_F = np.array([])\n",
    "    R_vector = np.array(r2)\n",
    "    while d > error and it < epochs:\n",
    "        \n",
    "        CurrentF = GetMetric(G2,r2)\n",
    "        J = GetJacobian2(G2,r2)\n",
    "        GVector = GetVectorF(G2,r2)\n",
    "        #Machine Learning\n",
    "        r2 -= lr*np.dot(J,GVector) \n",
    "        R_vector = np.vstack((R_vector,r2))\n",
    "        NewF = GetMetric(G2,r2)\n",
    "        Vector_F = np.append(Vector_F,NewF)\n",
    "        d = np.abs( CurrentF - NewF )/NewF\n",
    "        it += 1\n",
    "\n",
    "    if it == epochs:\n",
    "        print(' Entrenamiento no completado ')\n",
    "        \n",
    "    GetFig2(Vector_F,R_vector,it-1) \n",
    "    return r2,it"
   ]
  },
  {
   "cell_type": "code",
   "execution_count": 14,
   "id": "955f1caf",
   "metadata": {},
   "outputs": [
    {
     "data": {
      "image/png": "[encoded data removed]",
      "text/plain": [
       "<Figure size 800x400 with 2 Axes>"
      ]
     },
     "metadata": {},
     "output_type": "display_data"
    }
   ],
   "source": [
    "xsol,it= GetSolve2(G2,[0,0,0])"
   ]
  },
  {
   "cell_type": "code",
   "execution_count": 15,
   "id": "634e76d2",
   "metadata": {},
   "outputs": [
    {
     "data": {
      "text/plain": [
       "array([ 0.49814468, -0.1996059 , -0.52882598])"
      ]
     },
     "execution_count": 15,
     "metadata": {},
     "output_type": "execute_result"
    }
   ],
   "source": [
    "xsol"
   ]
  }
 ],
 "metadata": {
  "kernelspec": {
   "display_name": "Python 3 (ipykernel)",
   "language": "python",
   "name": "python3"
  },
  "language_info": {
   "codemirror_mode": {
    "name": "ipython",
    "version": 3
   },
   "file_extension": ".py",
   "mimetype": "text/x-python",
   "name": "python",
   "nbconvert_exporter": "python",
   "pygments_lexer": "ipython3",
   "version": "3.9.12"
  }
 },
 "nbformat": 4,
 "nbformat_minor": 5
}
