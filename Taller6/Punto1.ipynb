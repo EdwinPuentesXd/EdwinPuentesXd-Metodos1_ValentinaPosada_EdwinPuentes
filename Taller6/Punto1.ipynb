{
 "cells": [
  {
   "cell_type": "code",
   "execution_count": 1,
   "id": "32a83dc8",
   "metadata": {},
   "outputs": [],
   "source": [
    "import numpy as np"
   ]
  },
  {
   "cell_type": "code",
   "execution_count": 2,
   "id": "2460d33c",
   "metadata": {},
   "outputs": [],
   "source": [
    "def gauss_seidel(A, b, tol=1e-16, maxiter=10000):\n",
    "    resultado= \"No converge\"\n",
    "    ite=0\n",
    "    continuar=True\n",
    "    n = len(b)\n",
    "    x = [0]*n\n",
    "    while ite<maxiter and continuar:\n",
    "        xnew = x.copy()\n",
    "        for j in range(n):\n",
    "            s1 = sum(A[j][k]*xnew[k] for k in range(j))\n",
    "            s2 = sum(A[j][k]*x[k] for k in range(j+1, n))\n",
    "            xnew[j] = (b[j] - s1 - s2)/A[j][j]\n",
    "        if max(abs(xnew[k]-x[k]) for k in range(n)) < tol:\n",
    "            resultado= xnew\n",
    "            continuar=False\n",
    "        x = xnew\n",
    "        ite+=1\n",
    "    return resultado, ite"
   ]
  },
  {
   "cell_type": "code",
   "execution_count": 3,
   "id": "9f174a86",
   "metadata": {},
   "outputs": [],
   "source": [
    "A = np.array([[3,-1,-1],[-1.,3.,1.],[2,1,4]])\n",
    "b = np.array([1.,3.,7.])"
   ]
  },
  {
   "cell_type": "code",
   "execution_count": 4,
   "id": "c7cbcdee",
   "metadata": {},
   "outputs": [
    {
     "data": {
      "text/plain": [
       "([1.0, 1.0, 1.0], 28)"
      ]
     },
     "execution_count": 4,
     "metadata": {},
     "output_type": "execute_result"
    }
   ],
   "source": [
    "gauss_seidel(A,b)"
   ]
  },
  {
   "cell_type": "code",
   "execution_count": 5,
   "id": "84a228cd",
   "metadata": {},
   "outputs": [
    {
     "data": {
      "text/plain": [
       "array([1., 1., 1.])"
      ]
     },
     "execution_count": 5,
     "metadata": {},
     "output_type": "execute_result"
    }
   ],
   "source": [
    "np.linalg.solve(A,b)"
   ]
  }
 ],
 "metadata": {
  "kernelspec": {
   "display_name": "Python 3 (ipykernel)",
   "language": "python",
   "name": "python3"
  },
  "language_info": {
   "codemirror_mode": {
    "name": "ipython",
    "version": 3
   },
   "file_extension": ".py",
   "mimetype": "text/x-python",
   "name": "python",
   "nbconvert_exporter": "python",
   "pygments_lexer": "ipython3",
   "version": "3.9.12"
  }
 },
 "nbformat": 4,
 "nbformat_minor": 5
}
