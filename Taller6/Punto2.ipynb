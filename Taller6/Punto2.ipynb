{
 "cells": [
  {
   "cell_type": "code",
   "execution_count": 1,
   "id": "e0318a0d",
   "metadata": {},
   "outputs": [],
   "source": [
    "import numpy as np"
   ]
  },
  {
   "cell_type": "code",
   "execution_count": 2,
   "id": "7e816bd4",
   "metadata": {},
   "outputs": [],
   "source": [
    "class Linalg:\n",
    "    \n",
    "    def __init__(self,A,b):\n",
    "        self.A= A\n",
    "        self.b= b\n",
    "    \n",
    "    def GetacobiMethod(self,A,b,itmax=1000,error = 1e-10):\n",
    "        M,N = A.shape\n",
    "        x = np.zeros(N)\n",
    "        sumk = np.zeros_like(x)\n",
    "        x = [13,20,-1]\n",
    "        it = 0\n",
    "        residuo = np.linalg.norm( b - np.dot(A,x) )\n",
    "        while ( residuo > error and it < itmax ):\n",
    "            it += 1\n",
    "            for i in range(M):\n",
    "                sum_ = 0\n",
    "                for j in range(N):\n",
    "                    if i != j:\n",
    "                        sum_ += A[i][j]*x[j]\n",
    "                sumk[i] = sum_\n",
    "            for i in range(M):\n",
    "                if A[i,i] != 0:\n",
    "                    x[i] = (b[i] - sumk[i])/A[i,i]\n",
    "                else:\n",
    "                    print('No invertible con Jacobi')\n",
    "            residuo = np.linalg.norm( b - np.dot(A,x) )\n",
    "        return x,it\n",
    "    \n",
    "    def gauss_seidel(self, tol=1e-10, maxiter=10000):\n",
    "        resultado= \"No converge\"\n",
    "        ite=0\n",
    "        continuar=True\n",
    "        n = len(self.b)\n",
    "        x = [0]*n\n",
    "        while ite<maxiter and continuar:\n",
    "            xnew = x.copy()\n",
    "            for j in range(n):\n",
    "                s1 = sum(self.A[j][k]*xnew[k] for k in range(j))\n",
    "                s2 = sum(self.A[j][k]*x[k] for k in range(j+1, n))\n",
    "                xnew[j] = (self.b[j] - s1 - s2)/self.A[j][j]\n",
    "            if max(abs(xnew[k]-x[k]) for k in range(n)) < tol:\n",
    "                resultado= xnew\n",
    "                continuar=False\n",
    "            x = xnew\n",
    "            ite+=1\n",
    "        return resultado, ite"
   ]
  },
  {
   "cell_type": "code",
   "execution_count": 3,
   "id": "a4ff3db6",
   "metadata": {},
   "outputs": [],
   "source": [
    "A = np.array([[3,-1,-1],[-1.,3.,1.],[2,1,4]])\n",
    "b = np.array([1.,3.,7.])"
   ]
  },
  {
   "cell_type": "code",
   "execution_count": 4,
   "id": "e65793a5",
   "metadata": {},
   "outputs": [],
   "source": [
    "clase= Linalg(A=A,b=b)"
   ]
  },
  {
   "cell_type": "code",
   "execution_count": 5,
   "id": "dd6e942b",
   "metadata": {},
   "outputs": [
    {
     "data": {
      "text/plain": [
       "([1.0000000000012628, 1.0000000000109328, 0.9999999999902489], 26)"
      ]
     },
     "execution_count": 5,
     "metadata": {},
     "output_type": "execute_result"
    }
   ],
   "source": [
    "clase.GetacobiMethod(A,b)"
   ]
  },
  {
   "cell_type": "code",
   "execution_count": 6,
   "id": "94dc2139",
   "metadata": {},
   "outputs": [
    {
     "data": {
      "text/plain": [
       "([1.0000000000126035, 0.9999999999949587, 0.9999999999949586], 18)"
      ]
     },
     "execution_count": 6,
     "metadata": {},
     "output_type": "execute_result"
    }
   ],
   "source": [
    "clase.gauss_seidel()"
   ]
  },
  {
   "cell_type": "code",
   "execution_count": 7,
   "id": "65ae8200",
   "metadata": {},
   "outputs": [
    {
     "data": {
      "text/plain": [
       "array([1., 1., 1.])"
      ]
     },
     "execution_count": 7,
     "metadata": {},
     "output_type": "execute_result"
    }
   ],
   "source": [
    "np.linalg.solve(A,b)"
   ]
  }
 ],
 "metadata": {
  "kernelspec": {
   "display_name": "Python 3 (ipykernel)",
   "language": "python",
   "name": "python3"
  },
  "language_info": {
   "codemirror_mode": {
    "name": "ipython",
    "version": 3
   },
   "file_extension": ".py",
   "mimetype": "text/x-python",
   "name": "python",
   "nbconvert_exporter": "python",
   "pygments_lexer": "ipython3",
   "version": "3.9.12"
  }
 },
 "nbformat": 4,
 "nbformat_minor": 5
}
