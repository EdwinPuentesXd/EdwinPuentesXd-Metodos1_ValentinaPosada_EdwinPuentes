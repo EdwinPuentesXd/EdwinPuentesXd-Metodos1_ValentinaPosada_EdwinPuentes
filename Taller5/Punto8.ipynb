{
 "cells": [
  {
   "cell_type": "code",
   "execution_count": 1,
   "id": "a0577907",
   "metadata": {},
   "outputs": [],
   "source": [
    "import numpy as np\n",
    "from scipy import integrate"
   ]
  },
  {
   "cell_type": "code",
   "execution_count": 2,
   "id": "31be2f23",
   "metadata": {},
   "outputs": [],
   "source": [
    "f= lambda x,alpha=2,beta=4: np.math.factorial(alpha+beta-1)/(np.math.factorial(alpha-1)*np.math.factorial(beta-1))*x**(alpha-1)*(1-x)**(beta-1)"
   ]
  },
  {
   "cell_type": "code",
   "execution_count": 3,
   "id": "7d1f8d37",
   "metadata": {},
   "outputs": [],
   "source": [
    "x= np.random.uniform(0,1,size=1000)\n",
    "Max= max(f(x))\n",
    "y= np.random.uniform(0,Max,size=1000)"
   ]
  },
  {
   "cell_type": "code",
   "execution_count": 4,
   "id": "62959bf4",
   "metadata": {},
   "outputs": [],
   "source": [
    "bajo_curva=[]\n",
    "for n in range(len(x)):\n",
    "    if y[n]<f(x[n]):\n",
    "        bajo_curva.append(x[n])"
   ]
  },
  {
   "cell_type": "code",
   "execution_count": 5,
   "id": "878af7a1",
   "metadata": {},
   "outputs": [
    {
     "name": "stdout",
     "output_type": "stream",
     "text": [
      "Monte Carlo: 1.0314680170626034\n",
      "Integral: 1.0\n"
     ]
    }
   ],
   "source": [
    "res= len(bajo_curva)/len(x)*Max\n",
    "integral= integrate.quad(f,0,1)\n",
    "print(\"Monte Carlo: \"+ str(res))\n",
    "print(\"Integral: \"+ str(integral[0]))"
   ]
  },
  {
   "cell_type": "code",
   "execution_count": 6,
   "id": "cd824f38",
   "metadata": {},
   "outputs": [
    {
     "name": "stdout",
     "output_type": "stream",
     "text": [
      "Error Monte Carlo: 0.03146801706260338\n",
      "Error Integral: 1.1102230246251565e-14\n"
     ]
    }
   ],
   "source": [
    "error= integral[1]\n",
    "error_mcarlo= abs(1-res)/1\n",
    "print(\"Error Monte Carlo: \"+ str(error_mcarlo))\n",
    "print(\"Error Integral: \"+ str(error))"
   ]
  }
 ],
 "metadata": {
  "kernelspec": {
   "display_name": "Python 3 (ipykernel)",
   "language": "python",
   "name": "python3"
  },
  "language_info": {
   "codemirror_mode": {
    "name": "ipython",
    "version": 3
   },
   "file_extension": ".py",
   "mimetype": "text/x-python",
   "name": "python",
   "nbconvert_exporter": "python",
   "pygments_lexer": "ipython3",
   "version": "3.9.12"
  }
 },
 "nbformat": 4,
 "nbformat_minor": 5
}
