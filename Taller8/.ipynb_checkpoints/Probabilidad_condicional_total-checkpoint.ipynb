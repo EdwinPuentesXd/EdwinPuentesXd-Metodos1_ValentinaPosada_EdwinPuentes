{
 "cells": [
  {
   "cell_type": "code",
   "execution_count": 1,
   "id": "0add8177",
   "metadata": {},
   "outputs": [],
   "source": [
    "import numpy as np\n",
    "import matplotlib.pyplot as plt"
   ]
  },
  {
   "cell_type": "code",
   "execution_count": 2,
   "id": "76a19e0e",
   "metadata": {},
   "outputs": [],
   "source": [
    "PU=np.array([2/6,4/6]) #Probabilidad de cada urna\n",
    "U1=np.array([0.3,0.1,0.6]) #Probabilidad color sea R,N,V en Urna 1\n",
    "U2=np.array([0.6,0.2,0.2]) #Probabilidad color sea R,N,V en Urna 2"
   ]
  },
  {
   "cell_type": "code",
   "execution_count": 3,
   "id": "bc415131",
   "metadata": {},
   "outputs": [
    {
     "name": "stdout",
     "output_type": "stream",
     "text": [
      "Probabilidad de que sea roja:\n",
      "0.49999999999999994 0.5\n",
      "Probabilidad de que sea negra:\n",
      "0.16666666666666666 0.16666666666666666\n",
      "Probabilidad de que sea de la urna 1 si se ha obtenido una bola negra:\n",
      "0.2 0.2\n",
      "Probabilidad de que sea de la urna 2 si se ha obtenido una bola negra:\n",
      "0.8 0.8\n"
     ]
    }
   ],
   "source": [
    "print(\"Probabilidad de que sea roja:\")\n",
    "PR=U1[0]*PU[0]+U2[0]*PU[1]\n",
    "print(PR,1/2)\n",
    "\n",
    "print(\"Probabilidad de que sea negra:\")\n",
    "PN=U1[1]*PU[0]+U2[1]*PU[1]\n",
    "print(PN,1/6)\n",
    "\n",
    "print(\"Probabilidad de que sea de la urna 1 si se ha obtenido una bola negra:\")\n",
    "PU1N=(U1[1]*PU[0])/(PN)\n",
    "print(PU1N,1/5)\n",
    "\n",
    "print(\"Probabilidad de que sea de la urna 2 si se ha obtenido una bola negra:\")\n",
    "PU2N=(U2[1]*PU[1])/(PN)\n",
    "print(PU2N,4/5)"
   ]
  }
 ],
 "metadata": {
  "kernelspec": {
   "display_name": "Python 3 (ipykernel)",
   "language": "python",
   "name": "python3"
  },
  "language_info": {
   "codemirror_mode": {
    "name": "ipython",
    "version": 3
   },
   "file_extension": ".py",
   "mimetype": "text/x-python",
   "name": "python",
   "nbconvert_exporter": "python",
   "pygments_lexer": "ipython3",
   "version": "3.9.12"
  }
 },
 "nbformat": 4,
 "nbformat_minor": 5
}
