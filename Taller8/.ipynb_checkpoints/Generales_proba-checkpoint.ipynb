{
 "cells": [
  {
   "cell_type": "code",
   "execution_count": 1,
   "id": "c6e94a30",
   "metadata": {},
   "outputs": [],
   "source": [
    "import numpy as np\n",
    "import matplotlib.pyplot as plt\n",
    "import random"
   ]
  },
  {
   "cell_type": "code",
   "execution_count": 2,
   "id": "5be19be4",
   "metadata": {},
   "outputs": [
    {
     "data": {
      "text/plain": [
       "0.8999999999999999"
      ]
     },
     "execution_count": 2,
     "metadata": {},
     "output_type": "execute_result"
    }
   ],
   "source": [
    "#Punto 3\n",
    "    #Parte A\n",
    "proba_ambos=0.5\n",
    "proba_b=0.6\n",
    "proba_a=0.8\n",
    "a_b=proba_a+proba_b-proba_ambos\n",
    "a_b"
   ]
  },
  {
   "cell_type": "code",
   "execution_count": 3,
   "id": "7b8190ef",
   "metadata": {},
   "outputs": [
    {
     "data": {
      "text/plain": [
       "0.3999999999999999"
      ]
     },
     "execution_count": 3,
     "metadata": {},
     "output_type": "execute_result"
    }
   ],
   "source": [
    "    #Parte B\n",
    "b_a=a_b-proba_ambos\n",
    "b_a"
   ]
  },
  {
   "cell_type": "code",
   "execution_count": 4,
   "id": "7acc19c4",
   "metadata": {},
   "outputs": [
    {
     "data": {
      "image/png": "[encoded data removed]",
      "text/plain": [
       "<Figure size 640x480 with 1 Axes>"
      ]
     },
     "metadata": {},
     "output_type": "display_data"
    }
   ],
   "source": [
    "#Punto 4\n",
    "lista=[]\n",
    "for i in range(81): \n",
    "    x=(np.math.factorial(365))/((365**i)*(np.math.factorial(365-i)))\n",
    "    lista.append(x)\n",
    "\n",
    "x= np.arange(0,81,1)\n",
    "plt.figure()\n",
    "plt.xlabel('personas')\n",
    "plt.ylabel(\"Pn\")\n",
    "plt.plot(x,lista,\"b*\")\n",
    "plt.grid()\n",
    "plt.show()"
   ]
  },
  {
   "cell_type": "code",
   "execution_count": 5,
   "id": "8268d211",
   "metadata": {},
   "outputs": [
    {
     "data": {
      "text/plain": [
       "0.37209"
      ]
     },
     "execution_count": 5,
     "metadata": {},
     "output_type": "execute_result"
    }
   ],
   "source": [
    "#Punto 8\n",
    "import numpy as np\n",
    "import random\n",
    "\n",
    "total=0\n",
    "posibilidades=[-1,1] #1:Cara -1:sello\n",
    "N=1e5\n",
    "\n",
    "for i in range (int(N)):\n",
    "    x=[]\n",
    "    for n in range(4):\n",
    "        x.append(np.random.choice([-1,1]))\n",
    "    if sum(x) == 0: \n",
    "        total+=1\n",
    "prob=total/N\n",
    "prob"
   ]
  },
  {
   "cell_type": "code",
   "execution_count": 6,
   "id": "01a00273",
   "metadata": {},
   "outputs": [
    {
     "data": {
      "text/plain": [
       "(0.374999999951999, 49999)"
      ]
     },
     "execution_count": 6,
     "metadata": {},
     "output_type": "execute_result"
    }
   ],
   "source": [
    "#Punto9\n",
    "    #Maximos\n",
    "N=100000\n",
    "x1=np.linspace(0.1,0.9,N)\n",
    "x2=np.linspace(0.1,0.5,N)\n",
    "rta=np.zeros(N)\n",
    "for i in range(N): \n",
    "    rta[i]=6*(x1[i])**2*(1-x1[i])**2 \n",
    "\n",
    "valormax=np.max(rta)\n",
    "puntomax=np.argmax(rta)\n",
    "valormax,puntomax"
   ]
  },
  {
   "cell_type": "code",
   "execution_count": 7,
   "id": "c4947965",
   "metadata": {},
   "outputs": [
    {
     "data": {
      "text/plain": [
       "(0.04859999999999998, 99999)"
      ]
     },
     "execution_count": 7,
     "metadata": {},
     "output_type": "execute_result"
    }
   ],
   "source": [
    "    #Minimos\n",
    "valormin=np.min(rta)\n",
    "puntomin = np.argmin(rta)\n",
    "valormin,puntomin"
   ]
  }
 ],
 "metadata": {
  "kernelspec": {
   "display_name": "Python 3 (ipykernel)",
   "language": "python",
   "name": "python3"
  },
  "language_info": {
   "codemirror_mode": {
    "name": "ipython",
    "version": 3
   },
   "file_extension": ".py",
   "mimetype": "text/x-python",
   "name": "python",
   "nbconvert_exporter": "python",
   "pygments_lexer": "ipython3",
   "version": "3.9.12"
  }
 },
 "nbformat": 4,
 "nbformat_minor": 5
}
