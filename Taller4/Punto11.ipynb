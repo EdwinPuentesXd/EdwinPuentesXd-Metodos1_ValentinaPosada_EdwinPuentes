{
 "cells": [
  {
   "cell_type": "code",
   "execution_count": 1,
   "id": "f6852332",
   "metadata": {},
   "outputs": [],
   "source": [
    "import numpy as np\n",
    "from tqdm import tqdm"
   ]
  },
  {
   "cell_type": "code",
   "execution_count": 2,
   "id": "88fa7b7d",
   "metadata": {},
   "outputs": [],
   "source": [
    "def Simpson3_8(limi,lims,f,n=9999999):\n",
    "    intervalo=(lims-limi)/n\n",
    "    suma=f(limi)+f(lims)\n",
    "    for i in tqdm(range(1, n)):\n",
    "        if i%3==0:\n",
    "            suma+=2*f(limi+i*intervalo)\n",
    "        else:\n",
    "            suma+=3*f(limi+i*intervalo)\n",
    "    return 3/8*intervalo*suma"
   ]
  },
  {
   "cell_type": "code",
   "execution_count": 3,
   "id": "27f35283",
   "metadata": {},
   "outputs": [
    {
     "name": "stderr",
     "output_type": "stream",
     "text": [
      "100%|████████████████████████████████████████████████████████████████████| 9999998/9999998 [00:41<00:00, 241138.02it/s]\n"
     ]
    }
   ],
   "source": [
    "funcion= lambda x: np.sqrt(1+np.exp(-x**2))\n",
    "integral= Simpson3_8(-1,1,funcion)"
   ]
  },
  {
   "cell_type": "code",
   "execution_count": 4,
   "id": "f095b70a",
   "metadata": {},
   "outputs": [
    {
     "data": {
      "text/plain": [
       "2.6388571169084467"
      ]
     },
     "execution_count": 4,
     "metadata": {},
     "output_type": "execute_result"
    }
   ],
   "source": [
    "integral"
   ]
  }
 ],
 "metadata": {
  "kernelspec": {
   "display_name": "Python 3 (ipykernel)",
   "language": "python",
   "name": "python3"
  },
  "language_info": {
   "codemirror_mode": {
    "name": "ipython",
    "version": 3
   },
   "file_extension": ".py",
   "mimetype": "text/x-python",
   "name": "python",
   "nbconvert_exporter": "python",
   "pygments_lexer": "ipython3",
   "version": "3.9.12"
  }
 },
 "nbformat": 4,
 "nbformat_minor": 5
}
