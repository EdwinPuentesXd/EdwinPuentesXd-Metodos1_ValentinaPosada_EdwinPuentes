{
 "cells": [
  {
   "cell_type": "code",
   "execution_count": 23,
   "id": "bb2954fa",
   "metadata": {},
   "outputs": [],
   "source": [
    "import numpy as np\n",
    "import matplotlib.pyplot as plt\n",
    "import sympy as sym\n",
    "from scipy import integrate\n",
    "import math"
   ]
  },
  {
   "cell_type": "code",
   "execution_count": 8,
   "id": "24d92e35",
   "metadata": {},
   "outputs": [],
   "source": [
    "class Integrator:\n",
    "    \n",
    "    def __init__(self, x,y):\n",
    "        \n",
    "        self.x = x\n",
    "        self.y = y\n",
    "        self.h = self.x[1] - self.x[0]\n",
    "        \n",
    "        self.integral = 0.\n",
    "        \n",
    "    def Trapezoid(self):\n",
    "        \n",
    "        self.integral = 0.\n",
    "        \n",
    "        self.integral += 0.5*(self.y[0] + self.y[-1])\n",
    "        \n",
    "        self.integral += np.sum( self.y[1:-1] )\n",
    "        \n",
    "        return self.integral*self.h\n",
    "    \n",
    "    def GetTrapezoidError(self,f):\n",
    "        \n",
    "        d = (f( self.x + self.h ) - 2*f(self.x) + f( self.x - self.h))/self.h**2 \n",
    "        \n",
    "        \n",
    "        max_ = np.max(np.abs(d))\n",
    "        \n",
    "        self.error = (max_* (self.x[-1]-self.x[0])**3 )/(12*(len(self.x)-1)**2)\n",
    "        \n",
    "        return self.error\n",
    "    \n",
    "    def Simpson(self):\n",
    "        \n",
    "        self.integral = 0.\n",
    "        \n",
    "        self.integral += self.y[0] + self.y[-1]\n",
    "        \n",
    "        for i in range( len(y[1:-1]) ):\n",
    "            if i%2 == 0:\n",
    "                self.integral += 4*y[i+1]\n",
    "            else:\n",
    "                self.integral += 2*y[i+1]\n",
    "                \n",
    "        return self.integral*self.h/3\n",
    "    \n",
    "    def GetSimpsonError(self,f):\n",
    "        \n",
    "        d = (f( self.x + 2*self.h ) - \\\n",
    "             4*f( self.x + self.h ) + \\\n",
    "             6*f(self.x) - \\\n",
    "             4*f( self.x - self.h ) + \\\n",
    "             f(self.x - 2*self.h))/self.h**4\n",
    "        \n",
    "        max_ = np.max( np.abs(d) )\n",
    "        \n",
    "        self.error = (self.x[-1] - self.x[0])*self.h**4 * max_ / 180.\n",
    "        \n",
    "        return self.error"
   ]
  },
  {
   "cell_type": "code",
   "execution_count": 16,
   "id": "fc60bc13",
   "metadata": {},
   "outputs": [],
   "source": [
    "def GetNewtonMethod(f,df,xn,itmax = 100000, precision=1e-12):\n",
    "    \n",
    "    error = 1.\n",
    "    it = 0\n",
    "    \n",
    "    while error > precision and it < itmax:\n",
    "        \n",
    "        try:\n",
    "            \n",
    "            xn1 = xn - f(xn)/df(xn)\n",
    "            error = np.abs(f(xn)/df(xn))\n",
    "        \n",
    "        except ZeroDivisionError:\n",
    "            print(\"zero division\")\n",
    "            \n",
    "        xn  = xn1\n",
    "        it += 1\n",
    "    \n",
    "    #print('Raiz:',xn,it)\n",
    "    \n",
    "    if it == itmax:\n",
    "        return False\n",
    "    else:\n",
    "        return xn\n",
    "    \n",
    "def GetAllRoots(f,df,x, tolerancia=9):\n",
    "    \n",
    "    Roots = np.array([])\n",
    "    \n",
    "    for i in x:\n",
    "        \n",
    "        root = GetNewtonMethod(f,df,i)\n",
    "          \n",
    "        if root != False:\n",
    "            \n",
    "            croot = np.round( root, tolerancia ) \n",
    "            \n",
    "            if croot not in Roots:\n",
    "                Roots = np.append( Roots, croot )\n",
    "                \n",
    "    # Ordenamos las raices\n",
    "    Roots.sort()\n",
    "    \n",
    "    return Roots\n",
    "\n",
    "def GetLegendre(n):\n",
    "    \n",
    "    x = sym.Symbol('x',Real=True)\n",
    "    y = sym.Symbol('y',Real=True)\n",
    "    \n",
    "    y = (x**2 - 1)**n\n",
    "    \n",
    "    p = sym.diff(y,x,n)/(2**n * np.math.factorial(n))\n",
    "    \n",
    "    return p"
   ]
  },
  {
   "cell_type": "code",
   "execution_count": 19,
   "id": "75f2a628",
   "metadata": {},
   "outputs": [],
   "source": [
    "sin= lambda x: np.sin(x)\n",
    "cos= lambda x: np.cos(x)\n",
    "x= np.linspace(-10,10,100)\n",
    "ruts=GetAllRoots(sin,cos,x)"
   ]
  },
  {
   "cell_type": "code",
   "execution_count": 20,
   "id": "a28b8dee",
   "metadata": {},
   "outputs": [
    {
     "data": {
      "text/plain": [
       "array([-37.69911184, -18.84955592, -15.70796327,  -9.42477796,\n",
       "        -6.28318531,  -3.14159265,   3.14159265,   6.28318531,\n",
       "         9.42477796,  15.70796327,  18.84955592,  37.69911184])"
      ]
     },
     "execution_count": 20,
     "metadata": {},
     "output_type": "execute_result"
    }
   ],
   "source": [
    "ruts"
   ]
  },
  {
   "cell_type": "code",
   "execution_count": 29,
   "id": "54f0e3f8",
   "metadata": {},
   "outputs": [
    {
     "data": {
      "text/plain": [
       "1.2246467991473532e-16"
      ]
     },
     "execution_count": 29,
     "metadata": {},
     "output_type": "execute_result"
    }
   ],
   "source": [
    "sin(np.pi)"
   ]
  },
  {
   "cell_type": "code",
   "execution_count": null,
   "id": "79e111fc",
   "metadata": {},
   "outputs": [],
   "source": []
  },
  {
   "cell_type": "code",
   "execution_count": null,
   "id": "366a8ab7",
   "metadata": {},
   "outputs": [],
   "source": []
  }
 ],
 "metadata": {
  "kernelspec": {
   "display_name": "Python 3 (ipykernel)",
   "language": "python",
   "name": "python3"
  },
  "language_info": {
   "codemirror_mode": {
    "name": "ipython",
    "version": 3
   },
   "file_extension": ".py",
   "mimetype": "text/x-python",
   "name": "python",
   "nbconvert_exporter": "python",
   "pygments_lexer": "ipython3",
   "version": "3.9.12"
  }
 },
 "nbformat": 4,
 "nbformat_minor": 5
}
