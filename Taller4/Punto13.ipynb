{
 "cells": [
  {
   "cell_type": "code",
   "execution_count": 1,
   "id": "c91f0f8d",
   "metadata": {},
   "outputs": [],
   "source": [
    "import numpy as np\n",
    "from numpy.polynomial import legendre as L\n",
    "import sympy as sym"
   ]
  },
  {
   "cell_type": "code",
   "execution_count": 2,
   "id": "64624b23",
   "metadata": {},
   "outputs": [],
   "source": [
    "f= lambda x: 3 + 5*x + x**2\n",
    "x= sym.Symbol('x',Real=True)\n",
    "fx=f(x)"
   ]
  },
  {
   "cell_type": "code",
   "execution_count": 3,
   "id": "056d3189",
   "metadata": {},
   "outputs": [],
   "source": [
    "def legendre(n):\n",
    "    x = sym.Symbol('x',Real=True)\n",
    "    y = sym.Symbol('y',Real=True)   \n",
    "    y = (x**2-1)**n\n",
    "    polinomio = sym.diff(y,x,n)/(2**n * np.math.factorial(n))\n",
    "    return polinomio\n",
    "\n",
    "def obtenerpolinomio(n):\n",
    "    x = sym.Symbol('x',Real=True)\n",
    "    funcion=Legendre[n]\n",
    "    f=sym.lambdify(x,funcion)  \n",
    "    return f, funcion"
   ]
  },
  {
   "cell_type": "markdown",
   "id": "a3206263",
   "metadata": {},
   "source": [
    "#### Procedimiento para encontrar los coeficientes y polinomios de Legendre"
   ]
  },
  {
   "cell_type": "code",
   "execution_count": 4,
   "id": "c4781950",
   "metadata": {},
   "outputs": [
    {
     "data": {
      "text/plain": [
       "array([3.33333333333333, 5, 0.666666666666667], dtype=object)"
      ]
     },
     "execution_count": 4,
     "metadata": {},
     "output_type": "execute_result"
    }
   ],
   "source": [
    "c=np.array([fx.coeff(x,0),fx.coeff(x,1),fx.coeff(x,2)])\n",
    "coeficientes=L.poly2leg(c)\n",
    "\n",
    "Legendre=np.array([])\n",
    "for i in range(len(coeficientes)):\n",
    "    Legendre=np.append(Legendre,legendre(i))\n",
    "\n",
    "coeficientes"
   ]
  },
  {
   "cell_type": "markdown",
   "id": "07df58ec",
   "metadata": {},
   "source": [
    "#### Comprobación multiplicando los coeficientes encontrados por los polinomios de Legendre"
   ]
  },
  {
   "cell_type": "code",
   "execution_count": 5,
   "id": "f6477c00",
   "metadata": {},
   "outputs": [
    {
     "data": {
      "text/latex": [
       "$\\displaystyle 1.0 x^{2} + 5 x + 3.0$"
      ],
      "text/plain": [
       "1.0*x**2 + 5*x + 3.0"
      ]
     },
     "execution_count": 5,
     "metadata": {},
     "output_type": "execute_result"
    }
   ],
   "source": [
    "resultado=0\n",
    "for n in range(len(coeficientes)):\n",
    "        resultado+=Legendre[n]*coeficientes[n]\n",
    "resultado.expand()"
   ]
  }
 ],
 "metadata": {
  "kernelspec": {
   "display_name": "Python 3 (ipykernel)",
   "language": "python",
   "name": "python3"
  },
  "language_info": {
   "codemirror_mode": {
    "name": "ipython",
    "version": 3
   },
   "file_extension": ".py",
   "mimetype": "text/x-python",
   "name": "python",
   "nbconvert_exporter": "python",
   "pygments_lexer": "ipython3",
   "version": "3.9.12"
  }
 },
 "nbformat": 4,
 "nbformat_minor": 5
}
