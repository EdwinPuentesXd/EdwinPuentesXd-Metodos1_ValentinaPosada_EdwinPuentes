{
 "cells": [
  {
   "cell_type": "markdown",
   "metadata": {
    "id": "ZsOww6v6DmA1"
   },
   "source": [
    "## Problema\n",
    "\n",
    "A partir del conjunto de entrenamiento de los datos MNIST (imágenes de números escritos a mano) en este problema se construye un subconjunto de datos de todos los números escritos a mano que corresponden al número tres. Los datos están guardados en dos variables: I) La variable 'Images' con shape (6131, 28, 28) corresponden a las 6131 imagenes de (28x28) pixeles, II) La variable 'X_train_n' con shape (6131, 784) que corresponde a las mismas imágenes pero cada imagen de (28x28) está guardada en un vector de 784 componentes. \n",
    "\n",
    "En este problema se deben realizar las siguientes tareas.\n",
    "\n",
    "1.   Obtener 'average_image'. Graficar la imagen promedio de las 6131 imágenes. La imagen promedio corresponde a una imagen de (28x28) del promedio aritmético de cada pixel por separado de todas las imágenes.\n",
    "2.   Obtener 'worst_image'. Graficar la peor imagen es decir la imagen que se aleja en mayor medida al 'average_image' basados en la métrica *distancia Euclideana*.\n",
    "3.   Obtener 'best_image'. Graficar la mejor imagen es decir la imagen que se acerca en mayor medida al 'average_image' basados en la métrica *distancia Euclideana*.\n",
    "4.   Retornar los índices de la mejor y la peor imagen, y comentar el código.\n",
    "\n",
    "La distancia Euclidiana está definida por, \n",
    "\n",
    "$$E_d(\\vec{p}, \\vec{q}) = \\sqrt{\\sum_{i=1}^n(q_i-p_i)^2}$$\n",
    "\n",
    "Donde $\\vec{p}$, $\\vec{q}$ son dos vectores que pertenecen a un espacio de $n$ dimensiones.\n",
    "\n",
    "No olvidar poner un título a cada imagen. \n",
    "\n",
    "\n",
    " \n"
   ]
  },
  {
   "cell_type": "code",
   "execution_count": 20,
   "metadata": {
    "colab": {
     "base_uri": "https://localhost:8080/"
    },
    "id": "IhIFHcFRNjuE",
    "outputId": "04eef705-5e09-48b9-ee0f-4da4c86b1c18"
   },
   "outputs": [
    {
     "data": {
      "text/plain": [
       "((60000, 28, 28), (10000, 28, 28), (60000,), (10000,))"
      ]
     },
     "execution_count": 20,
     "metadata": {},
     "output_type": "execute_result"
    }
   ],
   "source": [
    "# Download the dataset\n",
    "from keras.datasets import mnist\n",
    "\n",
    "(X_train, y_train), (X_test, y_test) = mnist.load_data()\n",
    "\n",
    "X_train.shape, X_test.shape, y_train.shape, y_test.shape"
   ]
  },
  {
   "cell_type": "code",
   "execution_count": 44,
   "metadata": {
    "id": "UsEy2rfIMkNJ"
   },
   "outputs": [],
   "source": [
    "import matplotlib.pyplot as plt\n",
    "import numpy as np\n",
    "lista=np.where(y_train==3)\n",
    "imagenes=X_train[lista]"
   ]
  },
  {
   "cell_type": "code",
   "execution_count": 65,
   "metadata": {
    "colab": {
     "base_uri": "https://localhost:8080/",
     "height": 282
    },
    "id": "nZWBpUD6tIyl",
    "outputId": "5ca800d3-d439-4f4c-a68d-0ea4f73e59fe"
   },
   "outputs": [
    {
     "data": {
      "text/plain": [
       "<matplotlib.image.AxesImage at 0x7fc28fedd450>"
      ]
     },
     "execution_count": 65,
     "metadata": {},
     "output_type": "execute_result"
    },
    {
     "data": {
      "image/png": "[encoded data removed]",
      "text/plain": [
       "<Figure size 432x288 with 1 Axes>"
      ]
     },
     "metadata": {
      "needs_background": "light"
     },
     "output_type": "display_data"
    }
   ],
   "source": [
    "plt.imshow(imagenes[2])"
   ]
  },
  {
   "cell_type": "code",
   "execution_count": 63,
   "metadata": {
    "colab": {
     "base_uri": "https://localhost:8080/",
     "height": 282
    },
    "id": "35cljWHgmgKt",
    "outputId": "5f8aac34-c804-466d-c862-bae59bc1e0fc"
   },
   "outputs": [
    {
     "data": {
      "text/plain": [
       "<matplotlib.image.AxesImage at 0x7fc291d8ffd0>"
      ]
     },
     "execution_count": 63,
     "metadata": {},
     "output_type": "execute_result"
    },
    {
     "data": {
      "image/png": "[encoded data removed]",
      "text/plain": [
       "<Figure size 432x288 with 1 Axes>"
      ]
     },
     "metadata": {
      "needs_background": "light"
     },
     "output_type": "display_data"
    }
   ],
   "source": [
    "x=np.mean(imagenes, axis=0)\n",
    "plt.imshow(x)"
   ]
  },
  {
   "cell_type": "code",
   "execution_count": 71,
   "metadata": {
    "id": "QHIDUMA-rA3_"
   },
   "outputs": [],
   "source": [
    "menor=0\n",
    "resultado=None\n",
    "for image in imagenes:\n",
    "  dist=np.linalg.norm(image-x)\n",
    "  if dist>menor:\n",
    "    menor=dist\n",
    "    resultado=image"
   ]
  },
  {
   "cell_type": "code",
   "execution_count": 72,
   "metadata": {
    "colab": {
     "base_uri": "https://localhost:8080/",
     "height": 282
    },
    "id": "g7RTc1gFuVd5",
    "outputId": "f8c929d5-bbb4-4d37-83af-b85201889dd6"
   },
   "outputs": [
    {
     "data": {
      "text/plain": [
       "<matplotlib.image.AxesImage at 0x7fc28fd33f10>"
      ]
     },
     "execution_count": 72,
     "metadata": {},
     "output_type": "execute_result"
    },
    {
     "data": {
      "image/png": "[encoded data removed]",
      "text/plain": [
       "<Figure size 432x288 with 1 Axes>"
      ]
     },
     "metadata": {
      "needs_background": "light"
     },
     "output_type": "display_data"
    }
   ],
   "source": [
    "plt.imshow(resultado)"
   ]
  },
  {
   "cell_type": "code",
   "execution_count": 80,
   "metadata": {
    "id": "0_1ePGjsu5Lo"
   },
   "outputs": [],
   "source": [
    "mayor=float(\"inf\")\n",
    "resultado2=None\n",
    "for image in imagenes:\n",
    "  dist=np.linalg.norm(image-x)\n",
    "  if dist<mayor:\n",
    "    mayor=dist\n",
    "    resultado2=image"
   ]
  },
  {
   "cell_type": "code",
   "execution_count": 81,
   "metadata": {
    "colab": {
     "base_uri": "https://localhost:8080/",
     "height": 282
    },
    "id": "NaWqlOraveUo",
    "outputId": "d5e9f9ea-6b4f-4f10-ab19-77c73d81ab9b"
   },
   "outputs": [
    {
     "data": {
      "text/plain": [
       "<matplotlib.image.AxesImage at 0x7fc28fbe0a10>"
      ]
     },
     "execution_count": 81,
     "metadata": {},
     "output_type": "execute_result"
    },
    {
     "data": {
      "image/png": "[encoded data removed]",
      "text/plain": [
       "<Figure size 432x288 with 1 Axes>"
      ]
     },
     "metadata": {
      "needs_background": "light"
     },
     "output_type": "display_data"
    }
   ],
   "source": [
    "plt.imshow(resultado2)"
   ]
  },
  {
   "cell_type": "code",
   "execution_count": 98,
   "metadata": {
    "colab": {
     "base_uri": "https://localhost:8080/",
     "height": 282
    },
    "id": "nC4apsGlv6Bk",
    "outputId": "be9e0300-02b4-4d24-f9fb-bc793fb4fa83"
   },
   "outputs": [
    {
     "data": {
      "text/plain": [
       "<matplotlib.image.AxesImage at 0x7fc28fb4d110>"
      ]
     },
     "execution_count": 98,
     "metadata": {},
     "output_type": "execute_result"
    },
    {
     "data": {
      "image/png": "[encoded data removed]",
      "text/plain": [
       "<Figure size 432x288 with 1 Axes>"
      ]
     },
     "metadata": {
      "needs_background": "light"
     },
     "output_type": "display_data"
    }
   ],
   "source": [
    "xdif= np.linalg.norm(imagenes-x, axis=1)\n",
    "dist= []\n",
    "for i in range(len(xdif)):\n",
    "  dist.append(np.linalg.norm(xdif[i]))\n",
    "\n",
    "plt.imshow(imagenes[np.argmax(dist)])"
   ]
  },
  {
   "cell_type": "code",
   "execution_count": 99,
   "metadata": {
    "colab": {
     "base_uri": "https://localhost:8080/",
     "height": 282
    },
    "id": "VtZBiRV00l6Z",
    "outputId": "afd532b9-f6b1-40a5-8458-a62579f42351"
   },
   "outputs": [
    {
     "data": {
      "text/plain": [
       "<matplotlib.image.AxesImage at 0x7fc28d134050>"
      ]
     },
     "execution_count": 99,
     "metadata": {},
     "output_type": "execute_result"
    },
    {
     "data": {
      "image/png": "[encoded data removed]",
      "text/plain": [
       "<Figure size 432x288 with 1 Axes>"
      ]
     },
     "metadata": {
      "needs_background": "light"
     },
     "output_type": "display_data"
    }
   ],
   "source": [
    "plt.imshow(imagenes[np.argmin(dist)])"
   ]
  },
  {
   "cell_type": "code",
   "execution_count": null,
   "metadata": {
    "id": "hrNqRoCR1_j0"
   },
   "outputs": [],
   "source": [
    ""
   ]
  }
 ],
 "metadata": {
  "colab": {
   "collapsed_sections": [],
   "name": "ApellidoNombre_Ejercicio2.ipynb",
   "provenance": []
  },
  "kernelspec": {
   "display_name": "Python 3",
   "name": "python3"
  },
  "language_info": {
   "name": "python"
  }
 },
 "nbformat": 4,
 "nbformat_minor": 0
}
