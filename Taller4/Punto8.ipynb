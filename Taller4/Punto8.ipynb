{
 "cells": [
  {
   "cell_type": "code",
   "execution_count": 1,
   "id": "d346961e",
   "metadata": {},
   "outputs": [],
   "source": [
    "import sympy as sym"
   ]
  },
  {
   "cell_type": "code",
   "execution_count": 2,
   "id": "61b1d4d6",
   "metadata": {},
   "outputs": [],
   "source": [
    "h= sym.Symbol(\"h\")\n",
    "x= sym.Symbol(\"x\")"
   ]
  },
  {
   "cell_type": "code",
   "execution_count": 3,
   "id": "769f2e85",
   "metadata": {},
   "outputs": [],
   "source": [
    "X=[0,h,2*h,3*h]\n",
    "a= X[0]\n",
    "b= X[3]\n",
    "\n",
    "X0= (x-X[1])/(X[0]-X[1]) * (x-X[2])/(X[0]-X[2]) * (x-X[3])/(X[0]-X[3])\n",
    "X1= (x-X[0])/(X[1]-X[0]) * (x-X[2])/(X[1]-X[2]) * (x-X[3])/(X[1]-X[3])\n",
    "X2= (x-X[0])/(X[2]-X[0]) * (x-X[1])/(X[2]-X[1]) * (x-X[3])/(X[2]-X[3])\n",
    "X3= (x-X[0])/(X[3]-X[0]) * (x-X[2])/(X[3]-X[2]) * (x-X[1])/(X[3]-X[1])"
   ]
  },
  {
   "cell_type": "code",
   "execution_count": 4,
   "id": "6dac2f94",
   "metadata": {},
   "outputs": [],
   "source": [
    "x0=sym.integrate(X0,(x,a,b)) #* f(X[0])\n",
    "x1=sym.integrate(X1,(x,a,b)) #* f(X[0])\n",
    "x2=sym.integrate(X2,(x,a,b)) #* f(X[0])\n",
    "x3=sym.integrate(X3,(x,a,b)) #* f(X[0])"
   ]
  },
  {
   "cell_type": "code",
   "execution_count": 5,
   "id": "c48b9abe",
   "metadata": {},
   "outputs": [
    {
     "data": {
      "text/plain": [
       "(3*h/8, 9*h/8, 9*h/8, 3*h/8)"
      ]
     },
     "execution_count": 5,
     "metadata": {},
     "output_type": "execute_result"
    }
   ],
   "source": [
    "x0,x1,x2,x3"
   ]
  },
  {
   "cell_type": "markdown",
   "id": "9f4aa6c6",
   "metadata": {},
   "source": [
    "$$\\frac{3h}{8}[f(X[0])+3f(X[1])+3f(X[2])+f(X[3])]$$\n",
    "$$$$\n",
    "$$\\frac{3h}{8}[f(a)+3f(X[1])+3f(X[2])+f(b)]$$"
   ]
  },
  {
   "cell_type": "code",
   "execution_count": 6,
   "id": "d2aad4bd",
   "metadata": {},
   "outputs": [],
   "source": [
    "h=(b-a)/3"
   ]
  },
  {
   "cell_type": "markdown",
   "id": "09510bd6",
   "metadata": {},
   "source": [
    "$$a+h= \\frac{2a+b}{3} = \\frac{0+3h}{3} = \\frac{3h}{3} = h = X[1]$$ "
   ]
  },
  {
   "cell_type": "code",
   "execution_count": 7,
   "id": "70d3a357",
   "metadata": {},
   "outputs": [
    {
     "data": {
      "text/latex": [
       "$\\displaystyle h$"
      ],
      "text/plain": [
       "h"
      ]
     },
     "execution_count": 7,
     "metadata": {},
     "output_type": "execute_result"
    }
   ],
   "source": [
    "(2*a+b)/3"
   ]
  },
  {
   "cell_type": "markdown",
   "id": "b50ee2fd",
   "metadata": {},
   "source": [
    "$$\\frac{a+2b}{3} = \\frac{0+6h}{3} = \\frac{6h}{3} = 2h = X[2]$$ "
   ]
  },
  {
   "cell_type": "code",
   "execution_count": 8,
   "id": "f6ff7a23",
   "metadata": {},
   "outputs": [
    {
     "data": {
      "text/latex": [
       "$\\displaystyle 2 h$"
      ],
      "text/plain": [
       "2*h"
      ]
     },
     "execution_count": 8,
     "metadata": {},
     "output_type": "execute_result"
    }
   ],
   "source": [
    "(2*b+a)/3"
   ]
  },
  {
   "cell_type": "markdown",
   "id": "e540d59a",
   "metadata": {},
   "source": [
    "$$\\frac{2a+b}{3} = X[1]$$\n",
    "$$$$\n",
    "$$\\frac{a+2b}{3} = X[2]$$ "
   ]
  },
  {
   "cell_type": "code",
   "execution_count": 9,
   "id": "38b46874",
   "metadata": {},
   "outputs": [
    {
     "data": {
      "text/plain": [
       "True"
      ]
     },
     "execution_count": 9,
     "metadata": {},
     "output_type": "execute_result"
    }
   ],
   "source": [
    "(2*a+b)/3 == X[1] and (2*b+a)/3 == X[2]"
   ]
  },
  {
   "cell_type": "markdown",
   "id": "b3ecc999",
   "metadata": {},
   "source": [
    "$$\\frac{3h}{8}[f(a)+3f(\\frac{2a+b}{3})+3f(\\frac{a+2b}{3})+f(b)]$$"
   ]
  }
 ],
 "metadata": {
  "kernelspec": {
   "display_name": "Python 3 (ipykernel)",
   "language": "python",
   "name": "python3"
  },
  "language_info": {
   "codemirror_mode": {
    "name": "ipython",
    "version": 3
   },
   "file_extension": ".py",
   "mimetype": "text/x-python",
   "name": "python",
   "nbconvert_exporter": "python",
   "pygments_lexer": "ipython3",
   "version": "3.9.12"
  }
 },
 "nbformat": 4,
 "nbformat_minor": 5
}
