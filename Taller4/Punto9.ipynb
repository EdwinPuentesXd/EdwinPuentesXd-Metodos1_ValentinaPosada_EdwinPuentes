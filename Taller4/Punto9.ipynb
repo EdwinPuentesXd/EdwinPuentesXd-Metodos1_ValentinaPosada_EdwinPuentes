{
 "cells": [
  {
   "cell_type": "code",
   "execution_count": 1,
   "id": "fb06cd03",
   "metadata": {},
   "outputs": [],
   "source": [
    "import numpy as np\n",
    "import sympy as sym"
   ]
  },
  {
   "cell_type": "code",
   "execution_count": 2,
   "id": "2b2ceb9a",
   "metadata": {},
   "outputs": [],
   "source": [
    "x= sym.Symbol(\"x\")\n",
    "h= sym.Symbol(\"h\")\n",
    "f4= sym.Symbol(\"f^(4)ξ\")"
   ]
  },
  {
   "cell_type": "code",
   "execution_count": 3,
   "id": "f43307d3",
   "metadata": {},
   "outputs": [],
   "source": [
    "fun= (x)*(x - h)*(x - 2*h)*(x - 3*h)\n",
    "integral=sym.integrate(fun,(x,0,3*h))"
   ]
  },
  {
   "cell_type": "code",
   "execution_count": 4,
   "id": "b32b5249",
   "metadata": {},
   "outputs": [
    {
     "data": {
      "text/latex": [
       "$\\displaystyle - \\frac{3 f^{(4)ξ} h^{5}}{80}$"
      ],
      "text/plain": [
       "-3*f^(4)ξ*h**5/80"
      ]
     },
     "execution_count": 4,
     "metadata": {},
     "output_type": "execute_result"
    }
   ],
   "source": [
    "E=f4/np.math.factorial(4)*integral\n",
    "E"
   ]
  }
 ],
 "metadata": {
  "kernelspec": {
   "display_name": "Python 3 (ipykernel)",
   "language": "python",
   "name": "python3"
  },
  "language_info": {
   "codemirror_mode": {
    "name": "ipython",
    "version": 3
   },
   "file_extension": ".py",
   "mimetype": "text/x-python",
   "name": "python",
   "nbconvert_exporter": "python",
   "pygments_lexer": "ipython3",
   "version": "3.9.12"
  }
 },
 "nbformat": 4,
 "nbformat_minor": 5
}
