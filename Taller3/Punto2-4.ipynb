{
 "cells": [
  {
   "cell_type": "code",
   "execution_count": 1,
   "id": "ab117675",
   "metadata": {},
   "outputs": [],
   "source": [
    "import numpy as np\n",
    "import matplotlib.pyplot as plt\n",
    "from matplotlib import rc\n",
    "import pandas as pd\n",
    "import sympy as sym\n",
    "import os.path as path\n",
    "import wget\n",
    "import math"
   ]
  },
  {
   "cell_type": "code",
   "execution_count": 2,
   "id": "8b837cd1",
   "metadata": {},
   "outputs": [
    {
     "name": "stdout",
     "output_type": "stream",
     "text": [
      "--File found---\n"
     ]
    }
   ],
   "source": [
    "file = 'newtonraphson.csv'\n",
    "url = 'https://raw.githubusercontent.com/asegura4488/Database/main/MetodosComputacionalesReforma/Parabolico.csv'\n",
    "if not path.exists(file):\n",
    "    Path_ = wget.download(url,file)\n",
    "else:\n",
    "    print('--File found---')\n",
    "    Path_ = file"
   ]
  },
  {
   "cell_type": "code",
   "execution_count": 3,
   "id": "a1c4a9f3",
   "metadata": {},
   "outputs": [
    {
     "data": {
      "text/html": [
       "<div>\n",
       "<style scoped>\n",
       "    .dataframe tbody tr th:only-of-type {\n",
       "        vertical-align: middle;\n",
       "    }\n",
       "\n",
       "    .dataframe tbody tr th {\n",
       "        vertical-align: top;\n",
       "    }\n",
       "\n",
       "    .dataframe thead th {\n",
       "        text-align: right;\n",
       "    }\n",
       "</style>\n",
       "<table border=\"1\" class=\"dataframe\">\n",
       "  <thead>\n",
       "    <tr style=\"text-align: right;\">\n",
       "      <th></th>\n",
       "      <th>X</th>\n",
       "      <th>Y</th>\n",
       "    </tr>\n",
       "  </thead>\n",
       "  <tbody>\n",
       "    <tr>\n",
       "      <th>0</th>\n",
       "      <td>1.4</td>\n",
       "      <td>0.400795</td>\n",
       "    </tr>\n",
       "    <tr>\n",
       "      <th>1</th>\n",
       "      <td>3.5</td>\n",
       "      <td>0.594128</td>\n",
       "    </tr>\n",
       "    <tr>\n",
       "      <th>2</th>\n",
       "      <td>5.6</td>\n",
       "      <td>0.298028</td>\n",
       "    </tr>\n",
       "  </tbody>\n",
       "</table>\n",
       "</div>"
      ],
      "text/plain": [
       "     X         Y\n",
       "0  1.4  0.400795\n",
       "1  3.5  0.594128\n",
       "2  5.6  0.298028"
      ]
     },
     "execution_count": 3,
     "metadata": {},
     "output_type": "execute_result"
    }
   ],
   "source": [
    "Data = pd.read_csv(Path_,sep=',')\n",
    "Data"
   ]
  },
  {
   "cell_type": "code",
   "execution_count": 4,
   "id": "28384f4b",
   "metadata": {},
   "outputs": [],
   "source": [
    "X = np.float64(Data['X'])\n",
    "Y = np.float64(Data['Y'])"
   ]
  },
  {
   "cell_type": "code",
   "execution_count": 5,
   "id": "cc39bbf4",
   "metadata": {},
   "outputs": [],
   "source": [
    "def Lagrange(x,xi,j):\n",
    "    prod = 1.0\n",
    "    for i in range(len(xi)):\n",
    "        if i != j:\n",
    "            prod *= (x - xi[i])/(xi[j]-xi[i])\n",
    "    return prod\n",
    "\n",
    "def Poly(x,xi,yi):\n",
    "    Sum = 0.\n",
    "    for j in range(len(xi)):\n",
    "        Sum += yi[j]*Lagrange(x,xi,j)\n",
    "    return Sum\n",
    "\n",
    "x = np.linspace(0,np.max(X),100)\n",
    "y = Poly(x,X,Y)"
   ]
  },
  {
   "cell_type": "code",
   "execution_count": 6,
   "id": "b093ef65",
   "metadata": {},
   "outputs": [
    {
     "data": {
      "text/plain": [
       "[<matplotlib.lines.Line2D at 0x206f433c820>]"
      ]
     },
     "execution_count": 6,
     "metadata": {},
     "output_type": "execute_result"
    },
    {
     "data": {
      "image/png": "[encoded data removed]",
      "text/plain": [
       "<Figure size 640x480 with 1 Axes>"
      ]
     },
     "metadata": {},
     "output_type": "display_data"
    }
   ],
   "source": [
    "plt.figure()\n",
    "plt.title(\"Interpolación por Método Newton-Raphson\")\n",
    "plt.scatter(X,Y,color='r')\n",
    "plt.plot(x,y,color='k')"
   ]
  },
  {
   "cell_type": "code",
   "execution_count": 7,
   "id": "5cadad9d",
   "metadata": {},
   "outputs": [],
   "source": [
    "x= sym.Symbol(\"x\")\n",
    "f = Poly(x,X,Y).expand()"
   ]
  },
  {
   "cell_type": "markdown",
   "id": "d051fcc1",
   "metadata": {},
   "source": [
    "$$y(x)= y_o + tan\\theta x -\\frac{1}{2}\\frac{g}{V^2_{ox}}x^2$$"
   ]
  },
  {
   "cell_type": "code",
   "execution_count": 8,
   "id": "298d3d7f",
   "metadata": {},
   "outputs": [
    {
     "data": {
      "text/latex": [
       "$\\displaystyle - 0.0554912422401579 x^{2} + 0.363970234266202 x + 2.77555756156289 \\cdot 10^{-17}$"
      ],
      "text/plain": [
       "-0.0554912422401579*x**2 + 0.363970234266202*x + 2.77555756156289e-17"
      ]
     },
     "execution_count": 8,
     "metadata": {},
     "output_type": "execute_result"
    }
   ],
   "source": [
    "f"
   ]
  },
  {
   "cell_type": "markdown",
   "id": "1351d53a",
   "metadata": {},
   "source": [
    "Por tanto:\n",
    "$$$$\n",
    "$$tan\\theta x = 0.363970234266202𝑥$$\n",
    "$$$$\n",
    "$$tan\\theta= 0.363970234266202$$\n",
    "$$$$\n",
    "$$\\theta= arctan(0.363970234266202)$$"
   ]
  },
  {
   "cell_type": "code",
   "execution_count": 9,
   "id": "a72984d5",
   "metadata": {},
   "outputs": [],
   "source": [
    "theta=np.arctan(0.363970234266202)\n",
    "angulo=round(math.degrees(theta))"
   ]
  },
  {
   "cell_type": "markdown",
   "id": "72255dcc",
   "metadata": {},
   "source": [
    "$$-0.0554912422401579𝑥^2=-\\frac{1}{2}\\frac{g}{V^2_{ox}}x^2$$\n",
    "$$$$\n",
    "$$0.0554912422401579=\\frac{g}{2*V^2_{ox}}$$\n",
    "$$$$\n",
    "$$V^2_{ox}=\\frac{g}{2*0.0554912422401579}$$\n",
    "$$$$\n",
    "$$V_{ox}=\\sqrt{\\frac{g}{2*0.0554912422401579}}$$"
   ]
  },
  {
   "cell_type": "code",
   "execution_count": 10,
   "id": "2ddc7880",
   "metadata": {},
   "outputs": [],
   "source": [
    "g=9.8\n",
    "Vox= (g/(2*0.0554912422401579))**0.5"
   ]
  },
  {
   "cell_type": "markdown",
   "id": "5c8abed8",
   "metadata": {},
   "source": [
    "$$V_{ox}= V_oCos\\theta \\therefore V_o= \\frac{V_{ox}}{Cos\\theta}$$"
   ]
  },
  {
   "cell_type": "code",
   "execution_count": 11,
   "id": "c69e896b",
   "metadata": {},
   "outputs": [],
   "source": [
    "Velocidad= round(Vox/np.cos(theta))"
   ]
  },
  {
   "cell_type": "code",
   "execution_count": 12,
   "id": "5c022bfc",
   "metadata": {},
   "outputs": [
    {
     "name": "stdout",
     "output_type": "stream",
     "text": [
      "El ángulo inicial theta de la trayectoria es 20° y la velocidad inicial Vo es 10 m/s\n"
     ]
    }
   ],
   "source": [
    "print(\"El ángulo inicial theta de la trayectoria es \"+str(angulo)+\"° y la velocidad inicial Vo es \"+ str(Velocidad)+\" m/s\")"
   ]
  }
 ],
 "metadata": {
  "kernelspec": {
   "display_name": "Python 3 (ipykernel)",
   "language": "python",
   "name": "python3"
  },
  "language_info": {
   "codemirror_mode": {
    "name": "ipython",
    "version": 3
   },
   "file_extension": ".py",
   "mimetype": "text/x-python",
   "name": "python",
   "nbconvert_exporter": "python",
   "pygments_lexer": "ipython3",
   "version": "3.9.12"
  }
 },
 "nbformat": 4,
 "nbformat_minor": 5
}
